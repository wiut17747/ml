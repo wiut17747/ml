{
 "cells": [
  {
   "cell_type": "code",
   "execution_count": null,
   "id": "2962abe0",
   "metadata": {},
   "outputs": [],
   "source": [
    "print('yo')"
   ]
  }
 ],
 "metadata": {
  "kernelspec": {
   "display_name": ".venv",
   "language": "python",
   "name": "python3"
  },
  "language_info": {
   "name": "python",
   "version": "3.14.0"
  }
 },
 "nbformat": 4,
 "nbformat_minor": 5
}
